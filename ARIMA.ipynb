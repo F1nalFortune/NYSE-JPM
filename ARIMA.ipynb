{
 "cells": [
  {
   "cell_type": "markdown",
   "metadata": {},
   "source": [
    "# Imports"
   ]
  },
  {
   "cell_type": "code",
   "execution_count": 1,
   "metadata": {},
   "outputs": [
    {
     "name": "stderr",
     "output_type": "stream",
     "text": [
      "c:\\users\\brian\\anaconda3\\lib\\site-packages\\statsmodels\\tools\\_testing.py:19: FutureWarning: pandas.util.testing is deprecated. Use the functions in the public API at pandas.testing instead.\n",
      "  import pandas.util.testing as tm\n"
     ]
    }
   ],
   "source": [
    "import pandas as pd\n",
    "import numpy as np\n",
    "from statsmodels.tsa.stattools import adfuller\n",
    "from statsmodels.tsa.arima_model import ARIMA\n",
    "from numpy import log\n",
    "import matplotlib.pyplot as plt\n",
    "from sklearn.metrics import mean_squared_error\n",
    "%matplotlib inline\n",
    "from pandas.plotting import autocorrelation_plot"
   ]
  },
  {
   "cell_type": "code",
   "execution_count": 2,
   "metadata": {},
   "outputs": [],
   "source": [
    "df = pd.read_csv(\"./jpm_daily_close.csv\",index_col=0)\n",
    "df['datetime']=pd.to_datetime(df['datetime'])\n",
    "df=df.dropna().reset_index(drop=True)"
   ]
  },
  {
   "cell_type": "code",
   "execution_count": 3,
   "metadata": {},
   "outputs": [
    {
     "name": "stderr",
     "output_type": "stream",
     "text": [
      "c:\\users\\brian\\anaconda3\\lib\\site-packages\\ipykernel_launcher.py:1: FutureWarning: The pandas.datetime class is deprecated and will be removed from pandas in a future version. Import from datetime module instead.\n",
      "  \"\"\"Entry point for launching an IPython kernel.\n",
      "c:\\users\\brian\\anaconda3\\lib\\site-packages\\ipykernel_launcher.py:2: FutureWarning: The pandas.datetime class is deprecated and will be removed from pandas in a future version. Import from datetime module instead.\n",
      "  \n"
     ]
    }
   ],
   "source": [
    "train = df.loc[df['datetime']<=pd.datetime(2019,1, 27)]\n",
    "test = df.loc[df['datetime']>pd.datetime(2019,1, 27)]"
   ]
  },
  {
   "cell_type": "markdown",
   "metadata": {},
   "source": [
    "Checks if series is stationary"
   ]
  },
  {
   "cell_type": "code",
   "execution_count": 4,
   "metadata": {},
   "outputs": [
    {
     "name": "stdout",
     "output_type": "stream",
     "text": [
      "ADF Statistic: -0.08356599577509487\n",
      "p-value: 0.951051021123272\n"
     ]
    }
   ],
   "source": [
    "result = adfuller(df.price.dropna())\n",
    "print(f'ADF Statistic: {result[0]}' % result[0])\n",
    "print(f'p-value: {result[1]}')"
   ]
  },
  {
   "cell_type": "code",
   "execution_count": 5,
   "metadata": {},
   "outputs": [],
   "source": [
    "#p-value > .05"
   ]
  },
  {
   "cell_type": "code",
   "execution_count": 6,
   "metadata": {},
   "outputs": [
    {
     "name": "stdout",
     "output_type": "stream",
     "text": [
      "P-val: 6.276342699249687e-30\n"
     ]
    }
   ],
   "source": [
    "result = train['price'].diff().dropna()\n",
    "print(\"P-val:\", adfuller(result.dropna())[1])"
   ]
  },
  {
   "cell_type": "code",
   "execution_count": 7,
   "metadata": {},
   "outputs": [
    {
     "name": "stdout",
     "output_type": "stream",
     "text": [
      "                             ARIMA Model Results                              \n",
      "==============================================================================\n",
      "Dep. Variable:                D.price   No. Observations:                 3241\n",
      "Model:                 ARIMA(5, 1, 0)   Log Likelihood              -16536.795\n",
      "Method:                       css-mle   S.D. of innovations             39.783\n",
      "Date:                Fri, 29 Jan 2021   AIC                          33087.590\n",
      "Time:                        22:20:37   BIC                          33130.175\n",
      "Sample:                             1   HQIC                         33102.848\n",
      "                                                                              \n",
      "=================================================================================\n",
      "                    coef    std err          z      P>|z|      [0.025      0.975]\n",
      "---------------------------------------------------------------------------------\n",
      "const             1.6045      0.730      2.198      0.028       0.174       3.035\n",
      "ar.L1.D.price     0.0613      0.018      3.493      0.000       0.027       0.096\n",
      "ar.L2.D.price     0.0047      0.018      0.266      0.790      -0.030       0.039\n",
      "ar.L3.D.price     0.0221      0.018      1.259      0.208      -0.012       0.057\n",
      "ar.L4.D.price    -0.0276      0.018     -1.570      0.117      -0.062       0.007\n",
      "ar.L5.D.price    -0.0179      0.018     -1.019      0.308      -0.052       0.017\n",
      "                                    Roots                                    \n",
      "=============================================================================\n",
      "                  Real          Imaginary           Modulus         Frequency\n",
      "-----------------------------------------------------------------------------\n",
      "AR.1            1.6246           -1.1822j            2.0092           -0.1001\n",
      "AR.2            1.6246           +1.1822j            2.0092            0.1001\n",
      "AR.3           -0.9525           -1.9721j            2.1901           -0.3216\n",
      "AR.4           -0.9525           +1.9721j            2.1901            0.3216\n",
      "AR.5           -2.8872           -0.0000j            2.8872           -0.5000\n",
      "-----------------------------------------------------------------------------\n"
     ]
    }
   ],
   "source": [
    "data = df['price']\n",
    "model = ARIMA(data, order=(5, 1, 0))\n",
    "model = model.fit(disp=0)\n",
    "print(model.summary())"
   ]
  },
  {
   "cell_type": "code",
   "execution_count": 8,
   "metadata": {},
   "outputs": [
    {
     "data": {
      "image/png": "[encoded data removed]",
      "text/plain": [
       "<Figure size 432x288 with 1 Axes>"
      ]
     },
     "metadata": {
      "needs_background": "light"
     },
     "output_type": "display_data"
    },
    {
     "data": {
      "text/plain": [
       "<Figure size 1200x800 with 0 Axes>"
      ]
     },
     "metadata": {},
     "output_type": "display_data"
    }
   ],
   "source": [
    "autocorrelation_plot(data)\n",
    "plt.figure(figsize=(12, 8), dpi=100)\n",
    "plt.show() "
   ]
  },
  {
   "cell_type": "code",
   "execution_count": null,
   "metadata": {},
   "outputs": [],
   "source": [
    "X = df.price.values\n",
    "train_indices = int(len(X) * 0.80)\n",
    "train, test = X[0:train_indices], X[train_indices:len(X)]\n",
    "result = [x for x in train]\n",
    "predictions = list()\n",
    "for idx in range(len(test)):\n",
    "  model = ARIMA(result, order=(5,1,0))\n",
    "  fit_model = model.fit(disp=0)\n",
    "  output = fit_model.forecast()\n",
    "  y_pred = output[0]\n",
    "  predictions.append(y_pred)\n",
    "  result.append(test[idx])"
   ]
  },
  {
   "cell_type": "code",
   "execution_count": null,
   "metadata": {},
   "outputs": [],
   "source": [
    "error = mean_squared_error(test, predictions)\n",
    "print(f'Test MSE: {error:.3}')"
   ]
  },
  {
   "cell_type": "code",
   "execution_count": null,
   "metadata": {},
   "outputs": [],
   "source": [
    "plt.figure(figsize=(12, 8), dpi=100)\n",
    "plt.plot(test, label='Test')\n",
    "plt.plot(predictions, color='red', label='Prediction')\n",
    "plt.xlabel('Days')\n",
    "plt.ylabel('$')\n",
    "plt.title('ARIMA forecast JPMorgan close')\n",
    "plt.legend()\n",
    "plt.show()"
   ]
  },
  {
   "cell_type": "code",
   "execution_count": null,
   "metadata": {},
   "outputs": [],
   "source": []
  }
 ],
 "metadata": {
  "kernelspec": {
   "display_name": "thesis",
   "language": "python",
   "name": "thesis"
  },
  "language_info": {
   "codemirror_mode": {
    "name": "ipython",
    "version": 3
   },
   "file_extension": ".py",
   "mimetype": "text/x-python",
   "name": "python",
   "nbconvert_exporter": "python",
   "pygments_lexer": "ipython3",
   "version": "3.7.4"
  }
 },
 "nbformat": 4,
 "nbformat_minor": 4
}
